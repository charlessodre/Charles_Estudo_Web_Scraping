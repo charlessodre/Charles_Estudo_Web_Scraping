{
 "cells": [
  {
   "cell_type": "code",
   "execution_count": 1,
   "metadata": {},
   "outputs": [],
   "source": [
    "import pandas as pd\n",
    "#import io"
   ]
  },
  {
   "cell_type": "code",
   "execution_count": 20,
   "metadata": {},
   "outputs": [],
   "source": [
    "# Importa o CSV para um DataFrame\n",
    "arquivo_csv = 'C:\\\\Users\\\\charlessodre\\\\Documents\\\\Anaconda\\\\SMAL11 - Dados Históricos.csv'\n",
    "df = pd.read_csv(open(arquivo_csv, 'r', encoding='utf-8'), sep=',')\n",
    "\n",
    "#df.head()"
   ]
  },
  {
   "cell_type": "code",
   "execution_count": 21,
   "metadata": {},
   "outputs": [],
   "source": [
    "# ALtera o nome das colunas\n",
    "df.columns = ['Mês/Ano','Último','Abertura','Máxima','Mínima','Vol(K)', 'Var%']\n",
    "#df.head()"
   ]
  },
  {
   "cell_type": "code",
   "execution_count": 22,
   "metadata": {},
   "outputs": [],
   "source": [
    "#Retira a Primeira Linha do Data Frame\n",
    "df = df[1:]\n",
    "#df.head()"
   ]
  },
  {
   "cell_type": "code",
   "execution_count": 5,
   "metadata": {},
   "outputs": [],
   "source": [
    "codigo ='SMAL11'\n",
    "df['Código'] = codigo\n",
    "\n",
    "#df.head()"
   ]
  },
  {
   "cell_type": "code",
   "execution_count": 6,
   "metadata": {},
   "outputs": [],
   "source": [
    "#Verifica as colunas do DataFrame\n",
    "#df.columns\n"
   ]
  },
  {
   "cell_type": "code",
   "execution_count": 7,
   "metadata": {},
   "outputs": [],
   "source": [
    "#Altera a ordem das colunas do DataFrame\n",
    "df = df[['Código','Mês/Ano','Último','Abertura','Máxima','Mínima','Vol(K)', 'Var%']]\n",
    "#df.head()"
   ]
  },
  {
   "cell_type": "code",
   "execution_count": 8,
   "metadata": {},
   "outputs": [
    {
     "data": {
      "text/plain": [
       "Código      object\n",
       "Mês/Ano     object\n",
       "Último      object\n",
       "Abertura    object\n",
       "Máxima      object\n",
       "Mínima      object\n",
       "Vol(K)      object\n",
       "Var%        object\n",
       "dtype: object"
      ]
     },
     "execution_count": 8,
     "metadata": {},
     "output_type": "execute_result"
    }
   ],
   "source": [
    "df.dtypes"
   ]
  },
  {
   "cell_type": "code",
   "execution_count": 9,
   "metadata": {},
   "outputs": [],
   "source": [
    "#Trata o ponto e virgula do Numero na\n",
    "def trataSeparadorING(string):\n",
    "    string = str(string).replace(',','v')\n",
    "    string = string.replace('.',',')\n",
    "    string = string.replace('v','.')\n",
    "    \n",
    "    return string\n",
    "\n",
    "#Converte um objeto para para Numeric do Pandas\n",
    "def objToNumeric(obj):\n",
    "   \n",
    "    return pd.to_numeric(trataSeparadorING(obj))\n",
    "\n",
    "\n",
    "#Trata o Volume\n",
    "def trataVolume(vol):\n",
    "\n",
    "\n",
    "    vol = str(vol).upper()\n",
    "    k = vol.find('K')\n",
    "    m = vol.find('M')\n",
    "\n",
    "    valor=0\n",
    "\n",
    "    if ( k > 0 ):\n",
    "        valor = objToNumeric(vol[0:k])\n",
    "        #valor = valor*1000\n",
    "     \n",
    "    elif ( m > 0 ):\n",
    "        valor = objToNumeric(vol[0:m])\n",
    "        valor = valor*1000\n",
    "          \n",
    "    return valor\n",
    "\n",
    "\n",
    "#Trata o Variacao\n",
    "def trataVariacao(var):\n",
    "    \n",
    "    var = str(var)\n",
    "    k = var.find('%')\n",
    "    \n",
    "    valor=0\n",
    "\n",
    "    if ( k > 0 ):\n",
    "        valor = objToNumeric(var[0:k])\n",
    "        \n",
    "    return valor"
   ]
  },
  {
   "cell_type": "code",
   "execution_count": 10,
   "metadata": {},
   "outputs": [],
   "source": [
    "#Tratar Valores das colunas\n",
    "\n",
    "# Converte Coluna \"Último\" para Float\n",
    "df['Último'] = df['Último'].apply(objToNumeric)\n",
    "\n",
    "# Converte Coluna \"Abertura\" para Float\n",
    "df['Abertura'] = df['Abertura'].apply(objToNumeric)\n",
    "\n",
    "# Converte Coluna \"Máxima\" para Float\n",
    "df['Máxima'] = df['Máxima'].apply(objToNumeric)\n",
    "\n",
    "# Converte Coluna \"Mínima\" para Float\n",
    "df['Mínima'] = df['Mínima'].apply(objToNumeric)\n",
    "\n",
    "# Converte Coluna \"Vol(K)\" para Float\n",
    "df['Vol(K)'] = df['Vol(K)'].apply(trataVolume)\n",
    "\n",
    "# Converte Coluna \"Var%\" para Float\n",
    "df['Var%'] = df['Var%'].apply(trataVariacao)\n",
    "\n"
   ]
  },
  {
   "cell_type": "code",
   "execution_count": 11,
   "metadata": {},
   "outputs": [
    {
     "data": {
      "text/html": [
       "<div>\n",
       "<style scoped>\n",
       "    .dataframe tbody tr th:only-of-type {\n",
       "        vertical-align: middle;\n",
       "    }\n",
       "\n",
       "    .dataframe tbody tr th {\n",
       "        vertical-align: top;\n",
       "    }\n",
       "\n",
       "    .dataframe thead th {\n",
       "        text-align: right;\n",
       "    }\n",
       "</style>\n",
       "<table border=\"1\" class=\"dataframe\">\n",
       "  <thead>\n",
       "    <tr style=\"text-align: right;\">\n",
       "      <th></th>\n",
       "      <th>Código</th>\n",
       "      <th>Mês/Ano</th>\n",
       "      <th>Último</th>\n",
       "      <th>Abertura</th>\n",
       "      <th>Máxima</th>\n",
       "      <th>Mínima</th>\n",
       "      <th>Vol(K)</th>\n",
       "      <th>Var%</th>\n",
       "    </tr>\n",
       "  </thead>\n",
       "  <tbody>\n",
       "    <tr>\n",
       "      <th>1</th>\n",
       "      <td>SMAL11</td>\n",
       "      <td>Out 18</td>\n",
       "      <td>81.5</td>\n",
       "      <td>71.84</td>\n",
       "      <td>84.50</td>\n",
       "      <td>70.60</td>\n",
       "      <td>2300.00</td>\n",
       "      <td>12.41</td>\n",
       "    </tr>\n",
       "    <tr>\n",
       "      <th>2</th>\n",
       "      <td>SMAL11</td>\n",
       "      <td>Set 18</td>\n",
       "      <td>72.5</td>\n",
       "      <td>73.51</td>\n",
       "      <td>75.50</td>\n",
       "      <td>69.31</td>\n",
       "      <td>476.19</td>\n",
       "      <td>-1.76</td>\n",
       "    </tr>\n",
       "    <tr>\n",
       "      <th>3</th>\n",
       "      <td>SMAL11</td>\n",
       "      <td>Ago 18</td>\n",
       "      <td>73.8</td>\n",
       "      <td>77.20</td>\n",
       "      <td>79.64</td>\n",
       "      <td>73.05</td>\n",
       "      <td>351.01</td>\n",
       "      <td>-4.16</td>\n",
       "    </tr>\n",
       "    <tr>\n",
       "      <th>4</th>\n",
       "      <td>SMAL11</td>\n",
       "      <td>Jul 18</td>\n",
       "      <td>77.0</td>\n",
       "      <td>72.79</td>\n",
       "      <td>79.29</td>\n",
       "      <td>72.50</td>\n",
       "      <td>240.56</td>\n",
       "      <td>5.19</td>\n",
       "    </tr>\n",
       "    <tr>\n",
       "      <th>5</th>\n",
       "      <td>SMAL11</td>\n",
       "      <td>Jun 18</td>\n",
       "      <td>73.2</td>\n",
       "      <td>79.51</td>\n",
       "      <td>79.51</td>\n",
       "      <td>68.93</td>\n",
       "      <td>456.81</td>\n",
       "      <td>-3.68</td>\n",
       "    </tr>\n",
       "  </tbody>\n",
       "</table>\n",
       "</div>"
      ],
      "text/plain": [
       "   Código Mês/Ano  Último  Abertura  Máxima  Mínima   Vol(K)   Var%\n",
       "1  SMAL11  Out 18    81.5     71.84   84.50   70.60  2300.00  12.41\n",
       "2  SMAL11  Set 18    72.5     73.51   75.50   69.31   476.19  -1.76\n",
       "3  SMAL11  Ago 18    73.8     77.20   79.64   73.05   351.01  -4.16\n",
       "4  SMAL11  Jul 18    77.0     72.79   79.29   72.50   240.56   5.19\n",
       "5  SMAL11  Jun 18    73.2     79.51   79.51   68.93   456.81  -3.68"
      ]
     },
     "execution_count": 11,
     "metadata": {},
     "output_type": "execute_result"
    }
   ],
   "source": [
    "df.head()\n"
   ]
  },
  {
   "cell_type": "code",
   "execution_count": 12,
   "metadata": {},
   "outputs": [
    {
     "data": {
      "text/plain": [
       "Código       object\n",
       "Mês/Ano      object\n",
       "Último      float64\n",
       "Abertura    float64\n",
       "Máxima      float64\n",
       "Mínima      float64\n",
       "Vol(K)      float64\n",
       "Var%        float64\n",
       "dtype: object"
      ]
     },
     "execution_count": 12,
     "metadata": {},
     "output_type": "execute_result"
    }
   ],
   "source": [
    "df.dtypes"
   ]
  },
  {
   "cell_type": "code",
   "execution_count": 13,
   "metadata": {},
   "outputs": [
    {
     "data": {
      "text/html": [
       "<div>\n",
       "<style scoped>\n",
       "    .dataframe tbody tr th:only-of-type {\n",
       "        vertical-align: middle;\n",
       "    }\n",
       "\n",
       "    .dataframe tbody tr th {\n",
       "        vertical-align: top;\n",
       "    }\n",
       "\n",
       "    .dataframe thead th {\n",
       "        text-align: right;\n",
       "    }\n",
       "</style>\n",
       "<table border=\"1\" class=\"dataframe\">\n",
       "  <thead>\n",
       "    <tr style=\"text-align: right;\">\n",
       "      <th></th>\n",
       "      <th>Último</th>\n",
       "      <th>Abertura</th>\n",
       "      <th>Máxima</th>\n",
       "      <th>Mínima</th>\n",
       "      <th>Vol(K)</th>\n",
       "      <th>Var%</th>\n",
       "    </tr>\n",
       "  </thead>\n",
       "  <tbody>\n",
       "    <tr>\n",
       "      <th>count</th>\n",
       "      <td>118.000000</td>\n",
       "      <td>118.000000</td>\n",
       "      <td>118.000000</td>\n",
       "      <td>118.000000</td>\n",
       "      <td>118.000000</td>\n",
       "      <td>118.000000</td>\n",
       "    </tr>\n",
       "    <tr>\n",
       "      <th>mean</th>\n",
       "      <td>60.304237</td>\n",
       "      <td>59.991610</td>\n",
       "      <td>62.673644</td>\n",
       "      <td>57.298305</td>\n",
       "      <td>278.780085</td>\n",
       "      <td>1.226695</td>\n",
       "    </tr>\n",
       "    <tr>\n",
       "      <th>std</th>\n",
       "      <td>12.975453</td>\n",
       "      <td>13.191206</td>\n",
       "      <td>13.317790</td>\n",
       "      <td>12.689955</td>\n",
       "      <td>333.065987</td>\n",
       "      <td>6.549981</td>\n",
       "    </tr>\n",
       "    <tr>\n",
       "      <th>min</th>\n",
       "      <td>23.490000</td>\n",
       "      <td>23.490000</td>\n",
       "      <td>24.080000</td>\n",
       "      <td>22.340000</td>\n",
       "      <td>0.300000</td>\n",
       "      <td>-15.230000</td>\n",
       "    </tr>\n",
       "    <tr>\n",
       "      <th>25%</th>\n",
       "      <td>54.127500</td>\n",
       "      <td>52.802500</td>\n",
       "      <td>55.087500</td>\n",
       "      <td>49.935000</td>\n",
       "      <td>54.670000</td>\n",
       "      <td>-2.030000</td>\n",
       "    </tr>\n",
       "    <tr>\n",
       "      <th>50%</th>\n",
       "      <td>61.740000</td>\n",
       "      <td>61.905000</td>\n",
       "      <td>64.320000</td>\n",
       "      <td>59.435000</td>\n",
       "      <td>173.840000</td>\n",
       "      <td>0.120000</td>\n",
       "    </tr>\n",
       "    <tr>\n",
       "      <th>75%</th>\n",
       "      <td>69.700000</td>\n",
       "      <td>70.000000</td>\n",
       "      <td>71.425000</td>\n",
       "      <td>66.750000</td>\n",
       "      <td>379.787500</td>\n",
       "      <td>5.362500</td>\n",
       "    </tr>\n",
       "    <tr>\n",
       "      <th>max</th>\n",
       "      <td>85.570000</td>\n",
       "      <td>84.750000</td>\n",
       "      <td>86.430000</td>\n",
       "      <td>81.900000</td>\n",
       "      <td>2300.000000</td>\n",
       "      <td>34.420000</td>\n",
       "    </tr>\n",
       "  </tbody>\n",
       "</table>\n",
       "</div>"
      ],
      "text/plain": [
       "           Último    Abertura      Máxima      Mínima       Vol(K)        Var%\n",
       "count  118.000000  118.000000  118.000000  118.000000   118.000000  118.000000\n",
       "mean    60.304237   59.991610   62.673644   57.298305   278.780085    1.226695\n",
       "std     12.975453   13.191206   13.317790   12.689955   333.065987    6.549981\n",
       "min     23.490000   23.490000   24.080000   22.340000     0.300000  -15.230000\n",
       "25%     54.127500   52.802500   55.087500   49.935000    54.670000   -2.030000\n",
       "50%     61.740000   61.905000   64.320000   59.435000   173.840000    0.120000\n",
       "75%     69.700000   70.000000   71.425000   66.750000   379.787500    5.362500\n",
       "max     85.570000   84.750000   86.430000   81.900000  2300.000000   34.420000"
      ]
     },
     "execution_count": 13,
     "metadata": {},
     "output_type": "execute_result"
    }
   ],
   "source": [
    "df.describe()"
   ]
  },
  {
   "cell_type": "code",
   "execution_count": 14,
   "metadata": {},
   "outputs": [],
   "source": [
    "arquivo = 'C:\\\\Users\\\\charlessodre\\\\Documents\\\\Anaconda\\\\SMAL11 - Tratado.csv'\n",
    "df.to_csv(arquivo,sep=';', encoding='latin-1', decimal=',')\n",
    "#df.to_csv(arquivo,sep=';', encoding='latin-1', decimal=',',float_format='%.3f')"
   ]
  },
  {
   "cell_type": "code",
   "execution_count": null,
   "metadata": {},
   "outputs": [],
   "source": []
  },
  {
   "cell_type": "code",
   "execution_count": 15,
   "metadata": {},
   "outputs": [],
   "source": [
    "#arquivo_csv = \"C:\\\\Users\\\\charlessodre\\\\Documents\\\\Anaconda\\\\SMAL11 - Dados Históricos.csv\"\n",
    "\n",
    "#arq = open(arquivo_csv,'r')\n",
    "\n",
    "#data = arq.read()\n",
    "\n",
    "#rows = data.split('\\n')\n",
    "\n"
   ]
  },
  {
   "cell_type": "code",
   "execution_count": null,
   "metadata": {},
   "outputs": [],
   "source": []
  },
  {
   "cell_type": "code",
   "execution_count": 16,
   "metadata": {},
   "outputs": [],
   "source": [
    "#full = []\n",
    "\n",
    "#for row in rows:\n",
    "#    split_row = row.split(',')\n",
    "#    full.append(split_row)"
   ]
  },
  {
   "cell_type": "code",
   "execution_count": 17,
   "metadata": {},
   "outputs": [],
   "source": [
    "#print(full)"
   ]
  },
  {
   "cell_type": "code",
   "execution_count": null,
   "metadata": {},
   "outputs": [],
   "source": []
  }
 ],
 "metadata": {
  "kernelspec": {
   "display_name": "Python 3",
   "language": "python",
   "name": "python3"
  },
  "language_info": {
   "codemirror_mode": {
    "name": "ipython",
    "version": 3
   },
   "file_extension": ".py",
   "mimetype": "text/x-python",
   "name": "python",
   "nbconvert_exporter": "python",
   "pygments_lexer": "ipython3",
   "version": "3.7.0"
  }
 },
 "nbformat": 4,
 "nbformat_minor": 2
}
