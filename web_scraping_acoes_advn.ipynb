{
 "cells": [
  {
   "cell_type": "code",
   "execution_count": 1,
   "metadata": {},
   "outputs": [],
   "source": [
    "# Importação das bibliotecas\n",
    "import requests \n",
    "from bs4 import BeautifulSoup \n",
    "import pandas as pd \n",
    "import re"
   ]
  },
  {
   "cell_type": "code",
   "execution_count": 2,
   "metadata": {},
   "outputs": [],
   "source": [
    "# url dos histórico dos papeis\n",
    "url_fonte = 'https://br.investing.com/equities/usiminas-pna-historical-data'\n",
    "headers = {'User-Agent': 'Mozilla/5.0 (Windows NT 10.0; Win64; x64) AppleWebKit/537.36 (KHTML, like Gecko) Chrome/71.0.3578.98 Safari/537.36'}"
   ]
  },
  {
   "cell_type": "code",
   "execution_count": 3,
   "metadata": {},
   "outputs": [],
   "source": [
    "# Conectando da página\n",
    "con = requests.get(url_fonte, headers=headers)"
   ]
  },
  {
   "cell_type": "code",
   "execution_count": 4,
   "metadata": {},
   "outputs": [
    {
     "data": {
      "text/plain": [
       "200"
      ]
     },
     "execution_count": 4,
     "metadata": {},
     "output_type": "execute_result"
    }
   ],
   "source": [
    "# Status da Conexão. Status 200 conexão Ok.\n",
    "#https://www.w3.org/Protocols/HTTP/1.1/draft-ietf-http-v11-spec-01#Status-Codes\n",
    "con.status_code"
   ]
  },
  {
   "cell_type": "code",
   "execution_count": 5,
   "metadata": {},
   "outputs": [],
   "source": [
    "# Cria objeto BeautifulSoup com o conteúdo html da página\n",
    "soup = BeautifulSoup(con.content, \"html.parser\")\n",
    "#print(soup.prettify())"
   ]
  },
  {
   "cell_type": "code",
   "execution_count": 6,
   "metadata": {},
   "outputs": [],
   "source": [
    "#Extraindo a tabela com o histórico do Papel\n",
    "#tabela_historico = soup.findAll('table', id = 'curr_table')"
   ]
  },
  {
   "cell_type": "code",
   "execution_count": 7,
   "metadata": {},
   "outputs": [
    {
     "data": {
      "text/plain": [
       "bs4.element.Tag"
      ]
     },
     "execution_count": 7,
     "metadata": {},
     "output_type": "execute_result"
    }
   ],
   "source": [
    "#Extraindo a tabela com o histórico do Papel\n",
    "tabela_historico = soup.find('table', {'id':'curr_table'})\n",
    "#tabela\n",
    "type(tabela_historico)"
   ]
  },
  {
   "cell_type": "code",
   "execution_count": 8,
   "metadata": {},
   "outputs": [
    {
     "data": {
      "text/plain": [
       "<thead>\n",
       "<tr>\n",
       "<th class=\"first left noWrap\" data-col-name=\"date\">Data<span class=\"headerSortDefault\" sort_default=\"\"></span></th>\n",
       "<th class=\"noWrap\" data-col-name=\"price\">Último<span class=\"headerSortDefault\" sort_default=\"\"></span></th>\n",
       "<th class=\"noWrap\" data-col-name=\"open\">Abertura<span class=\"headerSortDefault\" sort_default=\"\"></span></th>\n",
       "<th class=\"noWrap\" data-col-name=\"high\">Máxima<span class=\"headerSortDefault\" sort_default=\"\"></span></th>\n",
       "<th class=\"noWrap\" data-col-name=\"low\">Mínima<span class=\"headerSortDefault\" sort_default=\"\"></span></th>\n",
       "<th class=\"noWrap\" data-col-name=\"vol\">Vol.<span class=\"headerSortDefault\" sort_default=\"\"></span></th> <th class=\"noWrap\" data-col-name=\"change\">Var%<span class=\"headerSortDefault\" sort_default=\"\"></span></th>\n",
       "</tr>\n",
       "</thead>"
      ]
     },
     "execution_count": 8,
     "metadata": {},
     "output_type": "execute_result"
    }
   ],
   "source": [
    "# Extrai somente o cabeçalho da tabela.\n",
    "head_tabela = tabela_historico.find('thead')\n",
    "head_tabela\n",
    "#type(head_tabela)"
   ]
  },
  {
   "cell_type": "code",
   "execution_count": 9,
   "metadata": {},
   "outputs": [
    {
     "data": {
      "text/plain": [
       "[['Data', 'Último', 'Abertura', 'Máxima', 'Mínima', 'Vol.', 'Var%']]"
      ]
     },
     "execution_count": 9,
     "metadata": {},
     "output_type": "execute_result"
    }
   ],
   "source": [
    "# Extrai as linhas do cabeçalho da tabela.\n",
    "linhas_cabecalho_tabela = head_tabela.find_all('tr')\n",
    "cabecalho_tabela_tratada = []\n",
    "\n",
    "for linha in linhas_cabecalho_tabela:\n",
    "    culunas=linha.find_all('th')\n",
    "    colunas=[x.text.strip() for x in culunas]\n",
    "    cabecalho_tabela_tratada.append(colunas)\n",
    "\n",
    "\n",
    "cabecalho_tabela_tratada"
   ]
  },
  {
   "cell_type": "code",
   "execution_count": 10,
   "metadata": {},
   "outputs": [
    {
     "data": {
      "text/plain": [
       "[<tr>\n",
       " <th class=\"first left noWrap\" data-col-name=\"date\">Data<span class=\"headerSortDefault\" sort_default=\"\"></span></th>\n",
       " <th class=\"noWrap\" data-col-name=\"price\">Último<span class=\"headerSortDefault\" sort_default=\"\"></span></th>\n",
       " <th class=\"noWrap\" data-col-name=\"open\">Abertura<span class=\"headerSortDefault\" sort_default=\"\"></span></th>\n",
       " <th class=\"noWrap\" data-col-name=\"high\">Máxima<span class=\"headerSortDefault\" sort_default=\"\"></span></th>\n",
       " <th class=\"noWrap\" data-col-name=\"low\">Mínima<span class=\"headerSortDefault\" sort_default=\"\"></span></th>\n",
       " <th class=\"noWrap\" data-col-name=\"vol\">Vol.<span class=\"headerSortDefault\" sort_default=\"\"></span></th> <th class=\"noWrap\" data-col-name=\"change\">Var%<span class=\"headerSortDefault\" sort_default=\"\"></span></th>\n",
       " </tr>]"
      ]
     },
     "execution_count": 10,
     "metadata": {},
     "output_type": "execute_result"
    }
   ],
   "source": [
    "head_tabela.find_all('tr')"
   ]
  },
  {
   "cell_type": "code",
   "execution_count": 11,
   "metadata": {},
   "outputs": [
    {
     "data": {
      "text/plain": [
       "bs4.element.Tag"
      ]
     },
     "execution_count": 11,
     "metadata": {},
     "output_type": "execute_result"
    }
   ],
   "source": [
    "# Extrai somente o corpo da tabela.\n",
    "corpo_tabela = tabela_historico.find('tbody')\n",
    "#corpo_tabela\n",
    "type(corpo_tabela)"
   ]
  },
  {
   "cell_type": "code",
   "execution_count": 12,
   "metadata": {},
   "outputs": [
    {
     "data": {
      "text/plain": [
       "[['11.01.2019', '10,18', '10,30', '10,36', '10,10', '17,53M', '-1,45%'],\n",
       " ['10.01.2019', '10,33', '10,16', '10,38', '9,95', '14,50M', '2,38%'],\n",
       " ['09.01.2019', '10,09', '9,90', '10,17', '9,84', '13,95M', '3,28%'],\n",
       " ['08.01.2019', '9,77', '10,20', '10,23', '9,72', '18,26M', '-2,79%'],\n",
       " ['07.01.2019', '10,05', '10,08', '10,28', '9,94', '15,09M', '0,20%'],\n",
       " ['04.01.2019', '10,03', '9,62', '10,14', '9,57', '29,30M', '5,80%'],\n",
       " ['03.01.2019', '9,48', '9,28', '9,88', '9,26', '18,66M', '-2,07%'],\n",
       " ['02.01.2019', '9,68', '9,14', '9,82', '9,05', '21,59M', '5,79%'],\n",
       " ['28.12.2018', '9,15', '9,10', '9,23', '9,02', '14,57M', '1,67%'],\n",
       " ['27.12.2018', '9,00', '9,17', '9,19', '8,92', '11,58M', '-1,64%'],\n",
       " ['26.12.2018', '9,15', '9,08', '9,16', '8,85', '12,33M', '-0,65%'],\n",
       " ['21.12.2018', '9,21', '9,26', '9,37', '9,18', '15,10M', '-0,43%'],\n",
       " ['20.12.2018', '9,25', '9,81', '9,88', '9,15', '26,46M', '-4,64%'],\n",
       " ['19.12.2018', '9,70', '9,80', '9,99', '9,70', '16,13M', '1,04%'],\n",
       " ['18.12.2018', '9,60', '9,84', '9,97', '9,55', '17,31M', '-1,94%'],\n",
       " ['17.12.2018', '9,79', '9,48', '9,92', '9,47', '23,17M', '4,37%'],\n",
       " ['14.12.2018', '9,38', '9,47', '9,63', '9,36', '12,52M', '-2,80%'],\n",
       " ['13.12.2018', '9,65', '9,42', '9,65', '9,36', '20,76M', '3,10%']]"
      ]
     },
     "execution_count": 12,
     "metadata": {},
     "output_type": "execute_result"
    }
   ],
   "source": [
    "# Extrai as linhas do corpo da tabela.\n",
    "linhas_tabela = corpo_tabela.find_all('tr')\n",
    "linhas_tabela_tratada = []\n",
    "\n",
    "for linha in linhas_tabela:\n",
    "    culunas=linha.find_all('td')\n",
    "    colunas=[x.text.strip() for x in culunas]\n",
    "    linhas_tabela_tratada.append(colunas)\n",
    "\n",
    "linhas_tabela_tratada"
   ]
  },
  {
   "cell_type": "code",
   "execution_count": 13,
   "metadata": {},
   "outputs": [],
   "source": [
    "#Cria um dataframe com as linhas do corpo da tabela.\n",
    "df_historico = pd.DataFrame(linhas_tabela_tratada)"
   ]
  },
  {
   "cell_type": "code",
   "execution_count": 14,
   "metadata": {},
   "outputs": [],
   "source": [
    "#Adiciona o cabeçalho da tabela no dataframe criado.\n",
    "df_historico.columns = cabecalho_tabela_tratada[0]"
   ]
  },
  {
   "cell_type": "code",
   "execution_count": 15,
   "metadata": {},
   "outputs": [
    {
     "data": {
      "text/html": [
       "<div>\n",
       "<style scoped>\n",
       "    .dataframe tbody tr th:only-of-type {\n",
       "        vertical-align: middle;\n",
       "    }\n",
       "\n",
       "    .dataframe tbody tr th {\n",
       "        vertical-align: top;\n",
       "    }\n",
       "\n",
       "    .dataframe thead th {\n",
       "        text-align: right;\n",
       "    }\n",
       "</style>\n",
       "<table border=\"1\" class=\"dataframe\">\n",
       "  <thead>\n",
       "    <tr style=\"text-align: right;\">\n",
       "      <th></th>\n",
       "      <th>Data</th>\n",
       "      <th>Último</th>\n",
       "      <th>Abertura</th>\n",
       "      <th>Máxima</th>\n",
       "      <th>Mínima</th>\n",
       "      <th>Vol.</th>\n",
       "      <th>Var%</th>\n",
       "    </tr>\n",
       "  </thead>\n",
       "  <tbody>\n",
       "    <tr>\n",
       "      <th>0</th>\n",
       "      <td>11.01.2019</td>\n",
       "      <td>10,18</td>\n",
       "      <td>10,30</td>\n",
       "      <td>10,36</td>\n",
       "      <td>10,10</td>\n",
       "      <td>17,53M</td>\n",
       "      <td>-1,45%</td>\n",
       "    </tr>\n",
       "    <tr>\n",
       "      <th>1</th>\n",
       "      <td>10.01.2019</td>\n",
       "      <td>10,33</td>\n",
       "      <td>10,16</td>\n",
       "      <td>10,38</td>\n",
       "      <td>9,95</td>\n",
       "      <td>14,50M</td>\n",
       "      <td>2,38%</td>\n",
       "    </tr>\n",
       "    <tr>\n",
       "      <th>2</th>\n",
       "      <td>09.01.2019</td>\n",
       "      <td>10,09</td>\n",
       "      <td>9,90</td>\n",
       "      <td>10,17</td>\n",
       "      <td>9,84</td>\n",
       "      <td>13,95M</td>\n",
       "      <td>3,28%</td>\n",
       "    </tr>\n",
       "    <tr>\n",
       "      <th>3</th>\n",
       "      <td>08.01.2019</td>\n",
       "      <td>9,77</td>\n",
       "      <td>10,20</td>\n",
       "      <td>10,23</td>\n",
       "      <td>9,72</td>\n",
       "      <td>18,26M</td>\n",
       "      <td>-2,79%</td>\n",
       "    </tr>\n",
       "    <tr>\n",
       "      <th>4</th>\n",
       "      <td>07.01.2019</td>\n",
       "      <td>10,05</td>\n",
       "      <td>10,08</td>\n",
       "      <td>10,28</td>\n",
       "      <td>9,94</td>\n",
       "      <td>15,09M</td>\n",
       "      <td>0,20%</td>\n",
       "    </tr>\n",
       "  </tbody>\n",
       "</table>\n",
       "</div>"
      ],
      "text/plain": [
       "         Data Último Abertura Máxima Mínima    Vol.    Var%\n",
       "0  11.01.2019  10,18    10,30  10,36  10,10  17,53M  -1,45%\n",
       "1  10.01.2019  10,33    10,16  10,38   9,95  14,50M   2,38%\n",
       "2  09.01.2019  10,09     9,90  10,17   9,84  13,95M   3,28%\n",
       "3  08.01.2019   9,77    10,20  10,23   9,72  18,26M  -2,79%\n",
       "4  07.01.2019  10,05    10,08  10,28   9,94  15,09M   0,20%"
      ]
     },
     "execution_count": 15,
     "metadata": {},
     "output_type": "execute_result"
    }
   ],
   "source": [
    "#Exibe as primeiras linha do dataframe\n",
    "df_historico.head()"
   ]
  },
  {
   "cell_type": "code",
   "execution_count": 16,
   "metadata": {},
   "outputs": [],
   "source": [
    "#Trata o seprador decimal.\n",
    "def trataSeparadorDecimal(string):\n",
    "    string = str(string).replace(',','v')\n",
    "    string = string.replace('.',',')\n",
    "    string = string.replace('v','.')\n",
    "    \n",
    "    return string\n",
    "\n",
    "#Converte um objeto para para Numeric do Pandas\n",
    "def objToNumeric(obj):\n",
    "   \n",
    "    return pd.to_numeric(trataSeparadorDecimal(obj))\n",
    "\n",
    "\n",
    "#Trata o Volume\n",
    "def trataVolume(vol):\n",
    "\n",
    "\n",
    "    vol = str(vol).upper()\n",
    "    k = vol.find('K')\n",
    "    m = vol.find('M')\n",
    "\n",
    "    valor=0\n",
    "\n",
    "    if ( k > 0 ):\n",
    "        valor = objToNumeric(vol[0:k])\n",
    "        valor = valor*1000\n",
    "     \n",
    "    elif ( m > 0 ):\n",
    "        valor = objToNumeric(vol[0:m])\n",
    "        valor = valor*1000000\n",
    "          \n",
    "    return valor\n",
    "\n",
    "\n",
    "#Trata o Variacao\n",
    "def trataVariacao(var):\n",
    "    \n",
    "    var = str(var)\n",
    "    k = var.find('%')\n",
    "    \n",
    "    valor=0\n",
    "\n",
    "    if ( k > 0 ):\n",
    "        valor = objToNumeric(var[0:k])\n",
    "        \n",
    "    return valor"
   ]
  },
  {
   "cell_type": "code",
   "execution_count": 17,
   "metadata": {},
   "outputs": [],
   "source": [
    "# Trata os tipos de dados das colunas\n",
    "\n",
    "#Converta a data\n",
    "df_historico['Data'] = pd.to_datetime(df_historico['Data'])\n",
    "\n",
    "# Converte Coluna \"Último\" para Float\n",
    "df_historico['Último'] = df_historico['Último'].apply(objToNumeric)\n",
    "\n",
    "# Converte Coluna \"Abertura\" para Float\n",
    "df_historico['Abertura'] = df_historico['Abertura'].apply(objToNumeric)\n",
    "\n",
    "# Converte Coluna \"Máxima\" para Float\n",
    "df_historico['Máxima'] = df_historico['Máxima'].apply(objToNumeric)\n",
    "\n",
    "# Converte Coluna \"Mínima\" para Float\n",
    "df_historico['Mínima'] = df_historico['Mínima'].apply(objToNumeric)\n",
    "\n",
    "# Converte Coluna \"Vol.\" para Float\n",
    "df_historico['Vol.'] = df_historico['Vol.'].apply(trataVolume)\n",
    "\n",
    "# Converte Coluna \"Var%\" para Float\n",
    "df_historico['Var%'] = df_historico['Var%'].apply(trataVariacao)\n",
    "\n"
   ]
  },
  {
   "cell_type": "code",
   "execution_count": 19,
   "metadata": {},
   "outputs": [
    {
     "data": {
      "text/plain": [
       "Data        datetime64[ns]\n",
       "Último             float64\n",
       "Abertura           float64\n",
       "Máxima             float64\n",
       "Mínima             float64\n",
       "Vol.               float64\n",
       "Var%               float64\n",
       "dtype: object"
      ]
     },
     "execution_count": 19,
     "metadata": {},
     "output_type": "execute_result"
    }
   ],
   "source": [
    "df_historico.dtypes"
   ]
  },
  {
   "cell_type": "code",
   "execution_count": 23,
   "metadata": {},
   "outputs": [
    {
     "data": {
      "text/html": [
       "<div>\n",
       "<style scoped>\n",
       "    .dataframe tbody tr th:only-of-type {\n",
       "        vertical-align: middle;\n",
       "    }\n",
       "\n",
       "    .dataframe tbody tr th {\n",
       "        vertical-align: top;\n",
       "    }\n",
       "\n",
       "    .dataframe thead th {\n",
       "        text-align: right;\n",
       "    }\n",
       "</style>\n",
       "<table border=\"1\" class=\"dataframe\">\n",
       "  <thead>\n",
       "    <tr style=\"text-align: right;\">\n",
       "      <th></th>\n",
       "      <th>Data</th>\n",
       "      <th>Último</th>\n",
       "      <th>Abertura</th>\n",
       "      <th>Máxima</th>\n",
       "      <th>Mínima</th>\n",
       "      <th>Vol.</th>\n",
       "      <th>Var%</th>\n",
       "    </tr>\n",
       "  </thead>\n",
       "  <tbody>\n",
       "    <tr>\n",
       "      <th>0</th>\n",
       "      <td>2019-11-01</td>\n",
       "      <td>10.18</td>\n",
       "      <td>10.30</td>\n",
       "      <td>10.36</td>\n",
       "      <td>10.10</td>\n",
       "      <td>17530000.0</td>\n",
       "      <td>-1.45</td>\n",
       "    </tr>\n",
       "    <tr>\n",
       "      <th>1</th>\n",
       "      <td>2019-10-01</td>\n",
       "      <td>10.33</td>\n",
       "      <td>10.16</td>\n",
       "      <td>10.38</td>\n",
       "      <td>9.95</td>\n",
       "      <td>14500000.0</td>\n",
       "      <td>2.38</td>\n",
       "    </tr>\n",
       "    <tr>\n",
       "      <th>2</th>\n",
       "      <td>2019-09-01</td>\n",
       "      <td>10.09</td>\n",
       "      <td>9.90</td>\n",
       "      <td>10.17</td>\n",
       "      <td>9.84</td>\n",
       "      <td>13950000.0</td>\n",
       "      <td>3.28</td>\n",
       "    </tr>\n",
       "    <tr>\n",
       "      <th>3</th>\n",
       "      <td>2019-08-01</td>\n",
       "      <td>9.77</td>\n",
       "      <td>10.20</td>\n",
       "      <td>10.23</td>\n",
       "      <td>9.72</td>\n",
       "      <td>18260000.0</td>\n",
       "      <td>-2.79</td>\n",
       "    </tr>\n",
       "    <tr>\n",
       "      <th>4</th>\n",
       "      <td>2019-07-01</td>\n",
       "      <td>10.05</td>\n",
       "      <td>10.08</td>\n",
       "      <td>10.28</td>\n",
       "      <td>9.94</td>\n",
       "      <td>15090000.0</td>\n",
       "      <td>0.20</td>\n",
       "    </tr>\n",
       "  </tbody>\n",
       "</table>\n",
       "</div>"
      ],
      "text/plain": [
       "        Data  Último  Abertura  Máxima  Mínima        Vol.  Var%\n",
       "0 2019-11-01   10.18     10.30   10.36   10.10  17530000.0 -1.45\n",
       "1 2019-10-01   10.33     10.16   10.38    9.95  14500000.0  2.38\n",
       "2 2019-09-01   10.09      9.90   10.17    9.84  13950000.0  3.28\n",
       "3 2019-08-01    9.77     10.20   10.23    9.72  18260000.0 -2.79\n",
       "4 2019-07-01   10.05     10.08   10.28    9.94  15090000.0  0.20"
      ]
     },
     "execution_count": 23,
     "metadata": {},
     "output_type": "execute_result"
    }
   ],
   "source": [
    "# Visualizando o dataframe após as conversões.\n",
    "df_historico.head()"
   ]
  },
  {
   "cell_type": "code",
   "execution_count": 24,
   "metadata": {},
   "outputs": [
    {
     "data": {
      "text/html": [
       "<div>\n",
       "<style scoped>\n",
       "    .dataframe tbody tr th:only-of-type {\n",
       "        vertical-align: middle;\n",
       "    }\n",
       "\n",
       "    .dataframe tbody tr th {\n",
       "        vertical-align: top;\n",
       "    }\n",
       "\n",
       "    .dataframe thead th {\n",
       "        text-align: right;\n",
       "    }\n",
       "</style>\n",
       "<table border=\"1\" class=\"dataframe\">\n",
       "  <thead>\n",
       "    <tr style=\"text-align: right;\">\n",
       "      <th></th>\n",
       "      <th>Último</th>\n",
       "      <th>Abertura</th>\n",
       "      <th>Máxima</th>\n",
       "      <th>Mínima</th>\n",
       "      <th>Vol.</th>\n",
       "      <th>Var%</th>\n",
       "    </tr>\n",
       "    <tr>\n",
       "      <th>Data</th>\n",
       "      <th></th>\n",
       "      <th></th>\n",
       "      <th></th>\n",
       "      <th></th>\n",
       "      <th></th>\n",
       "      <th></th>\n",
       "    </tr>\n",
       "  </thead>\n",
       "  <tbody>\n",
       "    <tr>\n",
       "      <th>2019-11-01</th>\n",
       "      <td>10.18</td>\n",
       "      <td>10.30</td>\n",
       "      <td>10.36</td>\n",
       "      <td>10.10</td>\n",
       "      <td>17530000.0</td>\n",
       "      <td>-1.45</td>\n",
       "    </tr>\n",
       "    <tr>\n",
       "      <th>2019-10-01</th>\n",
       "      <td>10.33</td>\n",
       "      <td>10.16</td>\n",
       "      <td>10.38</td>\n",
       "      <td>9.95</td>\n",
       "      <td>14500000.0</td>\n",
       "      <td>2.38</td>\n",
       "    </tr>\n",
       "    <tr>\n",
       "      <th>2019-09-01</th>\n",
       "      <td>10.09</td>\n",
       "      <td>9.90</td>\n",
       "      <td>10.17</td>\n",
       "      <td>9.84</td>\n",
       "      <td>13950000.0</td>\n",
       "      <td>3.28</td>\n",
       "    </tr>\n",
       "    <tr>\n",
       "      <th>2019-08-01</th>\n",
       "      <td>9.77</td>\n",
       "      <td>10.20</td>\n",
       "      <td>10.23</td>\n",
       "      <td>9.72</td>\n",
       "      <td>18260000.0</td>\n",
       "      <td>-2.79</td>\n",
       "    </tr>\n",
       "    <tr>\n",
       "      <th>2019-07-01</th>\n",
       "      <td>10.05</td>\n",
       "      <td>10.08</td>\n",
       "      <td>10.28</td>\n",
       "      <td>9.94</td>\n",
       "      <td>15090000.0</td>\n",
       "      <td>0.20</td>\n",
       "    </tr>\n",
       "    <tr>\n",
       "      <th>2019-04-01</th>\n",
       "      <td>10.03</td>\n",
       "      <td>9.62</td>\n",
       "      <td>10.14</td>\n",
       "      <td>9.57</td>\n",
       "      <td>29300000.0</td>\n",
       "      <td>5.80</td>\n",
       "    </tr>\n",
       "    <tr>\n",
       "      <th>2019-03-01</th>\n",
       "      <td>9.48</td>\n",
       "      <td>9.28</td>\n",
       "      <td>9.88</td>\n",
       "      <td>9.26</td>\n",
       "      <td>18660000.0</td>\n",
       "      <td>-2.07</td>\n",
       "    </tr>\n",
       "    <tr>\n",
       "      <th>2019-02-01</th>\n",
       "      <td>9.68</td>\n",
       "      <td>9.14</td>\n",
       "      <td>9.82</td>\n",
       "      <td>9.05</td>\n",
       "      <td>21590000.0</td>\n",
       "      <td>5.79</td>\n",
       "    </tr>\n",
       "    <tr>\n",
       "      <th>2018-12-28</th>\n",
       "      <td>9.15</td>\n",
       "      <td>9.10</td>\n",
       "      <td>9.23</td>\n",
       "      <td>9.02</td>\n",
       "      <td>14570000.0</td>\n",
       "      <td>1.67</td>\n",
       "    </tr>\n",
       "    <tr>\n",
       "      <th>2018-12-27</th>\n",
       "      <td>9.00</td>\n",
       "      <td>9.17</td>\n",
       "      <td>9.19</td>\n",
       "      <td>8.92</td>\n",
       "      <td>11580000.0</td>\n",
       "      <td>-1.64</td>\n",
       "    </tr>\n",
       "    <tr>\n",
       "      <th>2018-12-26</th>\n",
       "      <td>9.15</td>\n",
       "      <td>9.08</td>\n",
       "      <td>9.16</td>\n",
       "      <td>8.85</td>\n",
       "      <td>12330000.0</td>\n",
       "      <td>-0.65</td>\n",
       "    </tr>\n",
       "    <tr>\n",
       "      <th>2018-12-21</th>\n",
       "      <td>9.21</td>\n",
       "      <td>9.26</td>\n",
       "      <td>9.37</td>\n",
       "      <td>9.18</td>\n",
       "      <td>15100000.0</td>\n",
       "      <td>-0.43</td>\n",
       "    </tr>\n",
       "    <tr>\n",
       "      <th>2018-12-20</th>\n",
       "      <td>9.25</td>\n",
       "      <td>9.81</td>\n",
       "      <td>9.88</td>\n",
       "      <td>9.15</td>\n",
       "      <td>26460000.0</td>\n",
       "      <td>-4.64</td>\n",
       "    </tr>\n",
       "    <tr>\n",
       "      <th>2018-12-19</th>\n",
       "      <td>9.70</td>\n",
       "      <td>9.80</td>\n",
       "      <td>9.99</td>\n",
       "      <td>9.70</td>\n",
       "      <td>16130000.0</td>\n",
       "      <td>1.04</td>\n",
       "    </tr>\n",
       "    <tr>\n",
       "      <th>2018-12-18</th>\n",
       "      <td>9.60</td>\n",
       "      <td>9.84</td>\n",
       "      <td>9.97</td>\n",
       "      <td>9.55</td>\n",
       "      <td>17310000.0</td>\n",
       "      <td>-1.94</td>\n",
       "    </tr>\n",
       "    <tr>\n",
       "      <th>2018-12-17</th>\n",
       "      <td>9.79</td>\n",
       "      <td>9.48</td>\n",
       "      <td>9.92</td>\n",
       "      <td>9.47</td>\n",
       "      <td>23170000.0</td>\n",
       "      <td>4.37</td>\n",
       "    </tr>\n",
       "    <tr>\n",
       "      <th>2018-12-14</th>\n",
       "      <td>9.38</td>\n",
       "      <td>9.47</td>\n",
       "      <td>9.63</td>\n",
       "      <td>9.36</td>\n",
       "      <td>12520000.0</td>\n",
       "      <td>-2.80</td>\n",
       "    </tr>\n",
       "    <tr>\n",
       "      <th>2018-12-13</th>\n",
       "      <td>9.65</td>\n",
       "      <td>9.42</td>\n",
       "      <td>9.65</td>\n",
       "      <td>9.36</td>\n",
       "      <td>20760000.0</td>\n",
       "      <td>3.10</td>\n",
       "    </tr>\n",
       "  </tbody>\n",
       "</table>\n",
       "</div>"
      ],
      "text/plain": [
       "            Último  Abertura  Máxima  Mínima        Vol.  Var%\n",
       "Data                                                          \n",
       "2019-11-01   10.18     10.30   10.36   10.10  17530000.0 -1.45\n",
       "2019-10-01   10.33     10.16   10.38    9.95  14500000.0  2.38\n",
       "2019-09-01   10.09      9.90   10.17    9.84  13950000.0  3.28\n",
       "2019-08-01    9.77     10.20   10.23    9.72  18260000.0 -2.79\n",
       "2019-07-01   10.05     10.08   10.28    9.94  15090000.0  0.20\n",
       "2019-04-01   10.03      9.62   10.14    9.57  29300000.0  5.80\n",
       "2019-03-01    9.48      9.28    9.88    9.26  18660000.0 -2.07\n",
       "2019-02-01    9.68      9.14    9.82    9.05  21590000.0  5.79\n",
       "2018-12-28    9.15      9.10    9.23    9.02  14570000.0  1.67\n",
       "2018-12-27    9.00      9.17    9.19    8.92  11580000.0 -1.64\n",
       "2018-12-26    9.15      9.08    9.16    8.85  12330000.0 -0.65\n",
       "2018-12-21    9.21      9.26    9.37    9.18  15100000.0 -0.43\n",
       "2018-12-20    9.25      9.81    9.88    9.15  26460000.0 -4.64\n",
       "2018-12-19    9.70      9.80    9.99    9.70  16130000.0  1.04\n",
       "2018-12-18    9.60      9.84    9.97    9.55  17310000.0 -1.94\n",
       "2018-12-17    9.79      9.48    9.92    9.47  23170000.0  4.37\n",
       "2018-12-14    9.38      9.47    9.63    9.36  12520000.0 -2.80\n",
       "2018-12-13    9.65      9.42    9.65    9.36  20760000.0  3.10"
      ]
     },
     "execution_count": 24,
     "metadata": {},
     "output_type": "execute_result"
    }
   ],
   "source": [
    "# Define a data como indice do dataframe.\n",
    "df_historico.set_index('Data')"
   ]
  },
  {
   "cell_type": "code",
   "execution_count": null,
   "metadata": {},
   "outputs": [],
   "source": []
  },
  {
   "cell_type": "code",
   "execution_count": null,
   "metadata": {},
   "outputs": [],
   "source": []
  },
  {
   "cell_type": "code",
   "execution_count": null,
   "metadata": {},
   "outputs": [],
   "source": []
  }
 ],
 "metadata": {
  "kernelspec": {
   "display_name": "Python 3",
   "language": "python",
   "name": "python3"
  },
  "language_info": {
   "codemirror_mode": {
    "name": "ipython",
    "version": 3
   },
   "file_extension": ".py",
   "mimetype": "text/x-python",
   "name": "python",
   "nbconvert_exporter": "python",
   "pygments_lexer": "ipython3",
   "version": "3.6.7"
  }
 },
 "nbformat": 4,
 "nbformat_minor": 2
}
